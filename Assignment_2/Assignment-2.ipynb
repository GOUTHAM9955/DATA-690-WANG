{
 "cells": [
  {
   "cell_type": "code",
   "execution_count": 1,
   "metadata": {},
   "outputs": [],
   "source": [
    "# Importing math module\n",
    "import math\n",
    "# Creating a function named integers\n",
    "def integers():\n",
    "    i=0\n",
    "# Creating an empty list    \n",
    "    list1=[]\n",
    "    for i in range(10):\n",
    "        try:\n",
    "            # Appending integers into the list\n",
    "            b=int(input(\"Enter the number\"))\n",
    "            list1.append(b)\n",
    "        except ValueError:\n",
    "            return (\"Enter only integers\")\n",
    "    # Elements in the list\n",
    "    print(\"You have entered the following elements \",(list1))\n",
    "    # Maximum element in the list\n",
    "    print(\"Maximum number in the list is {}\".format(max(list1)))\n",
    "    # Minimu element in the list\n",
    "    print(\"Minimum nuber in the list is {}\".format(min(list1)))\n",
    "    # Range of elements in the list\n",
    "    print(\"range of entered numbers is \",max(list1)-min(list1))\n",
    "    c=sum(list1)/len(list1)\n",
    "    print(\"Mean =\",c)\n",
    "    sum1=0\n",
    "    # Calculating the sum of square of difference between the mean and elements in the list\n",
    "    for i in range(len(list1)):\n",
    "          sum1=pow((list1[i]-c),2)+sum1\n",
    "    #Varience\n",
    "    print(\"varience = {}\".format(sum1/len(list1)))\n",
    "    # Standard Deviation\n",
    "    print(\"Standard Deviation = \",math.sqrt(sum1))\n",
    "    \n",
    "    "
   ]
  },
  {
   "cell_type": "code",
   "execution_count": 2,
   "metadata": {},
   "outputs": [
    {
     "name": "stdout",
     "output_type": "stream",
     "text": [
      "Enter the numberg\n"
     ]
    },
    {
     "data": {
      "text/plain": [
       "'Enter only integers'"
      ]
     },
     "execution_count": 2,
     "metadata": {},
     "output_type": "execute_result"
    }
   ],
   "source": [
    "integers()"
   ]
  },
  {
   "cell_type": "code",
   "execution_count": 3,
   "metadata": {},
   "outputs": [
    {
     "name": "stdout",
     "output_type": "stream",
     "text": [
      "Enter the number12\n",
      "Enter the number45\n",
      "Enter the number745\n",
      "Enter the number12\n",
      "Enter the number85\n",
      "Enter the number34\n",
      "Enter the number67\n",
      "Enter the number154\n",
      "Enter the number463\n",
      "Enter the number23\n",
      "You have entered the following elements  [12, 45, 745, 12, 85, 34, 67, 154, 463, 23]\n",
      "Maximum number in the list is 745\n",
      "Minimum nuber in the list is 12\n",
      "range of entered numbers is  733\n",
      "Mean = 164.0\n",
      "varience = 53986.2\n",
      "Standard Deviation =  734.7530197283983\n"
     ]
    }
   ],
   "source": [
    "integers()"
   ]
  }
 ],
 "metadata": {
  "kernelspec": {
   "display_name": "Python 3",
   "language": "python",
   "name": "python3"
  },
  "language_info": {
   "codemirror_mode": {
    "name": "ipython",
    "version": 3
   },
   "file_extension": ".py",
   "mimetype": "text/x-python",
   "name": "python",
   "nbconvert_exporter": "python",
   "pygments_lexer": "ipython3",
   "version": "3.7.4"
  }
 },
 "nbformat": 4,
 "nbformat_minor": 2
}
