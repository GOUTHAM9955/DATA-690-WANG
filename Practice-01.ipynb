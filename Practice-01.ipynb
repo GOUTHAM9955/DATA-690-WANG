{
 "cells": [
  {
   "cell_type": "markdown",
   "metadata": {},
   "source": [
    "# \"Python for Data Analysis\" by Wes McKinny  Chapter 2 Key points along with sample code"
   ]
  },
  {
   "cell_type": "markdown",
   "metadata": {},
   "source": [
    " Python is an interpreted language. The Python interpreter runs a program by execut‐\n",
    " ing one statement at a time. The standard interactive Python interpreter can be\n",
    " invoked on the command line with the python command."
   ]
  },
  {
   "cell_type": "code",
   "execution_count": 4,
   "metadata": {},
   "outputs": [
    {
     "name": "stdout",
     "output_type": "stream",
     "text": [
      "Hello world!\n"
     ]
    }
   ],
   "source": [
    "# Printing simple command\n",
    "print(\"Hello world!\")"
   ]
  },
  {
   "cell_type": "code",
   "execution_count": 7,
   "metadata": {},
   "outputs": [
    {
     "data": {
      "text/plain": [
       "{0: 0.12537807279968474,\n",
       " 1: -1.0571077609247264,\n",
       " 2: -1.4199655260540909,\n",
       " 3: 0.21622235429663253,\n",
       " 4: 0.8387420994790459,\n",
       " 5: -0.6592017305850554,\n",
       " 6: 0.8825924737615254}"
      ]
     },
     "execution_count": 7,
     "metadata": {},
     "output_type": "execute_result"
    }
   ],
   "source": [
    "# Importing numpy as np\n",
    "import numpy as np\n",
    "# Creating a dictionary using random function for generating values.\n",
    "data = {i : np.random.randn() for i in range(7)}\n",
    "# Printing dictionary named data\n",
    "data\n"
   ]
  },
  {
   "cell_type": "code",
   "execution_count": 11,
   "metadata": {},
   "outputs": [],
   "source": [
    "# Using a question mark (?) before or after a variable will display some general information about the object.\n",
    "b = [1, 2, 3]\n",
    "b?"
   ]
  },
  {
   "cell_type": "code",
   "execution_count": 12,
   "metadata": {},
   "outputs": [],
   "source": [
    "print?"
   ]
  },
  {
   "cell_type": "code",
   "execution_count": 13,
   "metadata": {},
   "outputs": [],
   "source": [
    "# Using ?? will also show the function’s source code if possible\n",
    "def add_numbers(a, b):\n",
    " \"\"\"\n",
    " Add two numbers together\n",
    " Returns\n",
    " -------\n",
    " the_sum : type of arguments\n",
    " \"\"\"\n",
    " return a + b\n",
    "\n",
    "add_numbers??"
   ]
  },
  {
   "cell_type": "markdown",
   "metadata": {},
   "source": [
    "### You can run any file as a Python program inside the environment of your IPython session using the %run command. "
   ]
  },
  {
   "cell_type": "markdown",
   "metadata": {},
   "source": [
    "### In the Jupyter notebook, you may also use the related %load magic function, which imports a script into a code cell."
   ]
  },
  {
   "cell_type": "markdown",
   "metadata": {},
   "source": [
    "### Keyboard shortcuts vs description\n",
    "Ctrl-P or up-arrow Search backward in command history for commands starting with currently entered text\n",
    "\n",
    "Ctrl-N or down-arrow Search forward in command history for commands starting with currently entered text\n",
    "\n",
    "Ctrl-R Readline-style reverse history search (partial matching)\n",
    "\n",
    "Ctrl-Shift-V Paste text from clipboard\n",
    "\n",
    "Ctrl-C Interrupt currently executing code\n",
    "\n",
    "Ctrl-A Move cursor to beginning of line\n",
    "\n",
    "Ctrl-E Move cursor to end of line\n",
    "\n",
    "Ctrl-K Delete text from cursor until end of line\n",
    "\n",
    "Ctrl-U Discard all text on current line\n",
    "\n",
    "Ctrl-F Move cursor forward one character\n",
    "\n",
    "Ctrl-B Move cursor back one character\n",
    "\n",
    "Ctrl-L Clear screen"
   ]
  },
  {
   "cell_type": "markdown",
   "metadata": {},
   "source": [
    "### Frequently used magic commands vs description\n",
    "%quickref Display the IPython Quick Reference Card\n",
    "\n",
    "%magic Display detailed documentation for all of the available magic commands\n",
    "\n",
    "%debug Enter the interactive debugger at the bottom of the last exception traceback\n",
    "\n",
    "%hist Print command input (and optionally output) history\n",
    "\n",
    "%pdb Automatically enter debugger after any exception\n",
    "\n",
    "%paste Execute preformatted Python code from clipboard\n",
    "\n",
    "%cpaste Open a special prompt for manually pasting Python code to be executed\n",
    "\n",
    "%reset Delete all variables/names defined in interactive namespace\n",
    "\n",
    "%page OBJECT Pretty-print the object and display it through a pager\n",
    "\n",
    "%run script.py Run a Python script inside IPython\n",
    "\n",
    "%prun statement Execute statement with cProfile and report the profiler output\n",
    "\n",
    "%time statement Report the execution time of a single statement\n",
    "\n",
    "%timeit statement Run a statement multiple times to compute an ensemble average execution time; useful for\n",
    "\n",
    "timing code with very short execution time\n",
    "\n",
    "%who, %who_ls, %whos Display variables defined in interactive namespace, with varying levels of information/\n",
    "verbosity\n",
    "\n",
    "%xdel variable Delete a variable and attempt to clear any references to the object in the IPython internals\n"
   ]
  },
  {
   "cell_type": "markdown",
   "metadata": {},
   "source": [
    " ### The %matplotlib magic function configures its integration with the IPython shell or Jupyter notebook. This is important, as otherwise plots you create will either not appear (notebook) or take control of the session until closed (shell)."
   ]
  },
  {
   "cell_type": "code",
   "execution_count": 20,
   "metadata": {},
   "outputs": [
    {
     "name": "stdout",
     "output_type": "stream",
     "text": [
      "Using matplotlib backend: Qt5Agg\n"
     ]
    }
   ],
   "source": [
    "%matplotlib"
   ]
  },
  {
   "cell_type": "code",
   "execution_count": 21,
   "metadata": {},
   "outputs": [
    {
     "data": {
      "text/plain": [
       "[1, 2, 3, 4]"
      ]
     },
     "execution_count": 21,
     "metadata": {},
     "output_type": "execute_result"
    }
   ],
   "source": [
    "# Creating a function to append an element into a list \n",
    "def append_element(some_list, element):\n",
    "    some_list.append(element)\n",
    "\n",
    "data = [1, 2, 3]\n",
    "append_element(data, 4)\n",
    "data"
   ]
  },
  {
   "cell_type": "code",
   "execution_count": 23,
   "metadata": {},
   "outputs": [
    {
     "name": "stdout",
     "output_type": "stream",
     "text": [
      "a is <class 'float'>, b is <class 'int'>\n"
     ]
    }
   ],
   "source": [
    "# Using .format function \n",
    "a = 4.5\n",
    "b = 2\n",
    "\n",
    "print('a is {0}, b is {1}'.format(type(a), type(b)))\n",
    "\n"
   ]
  },
  {
   "cell_type": "code",
   "execution_count": 25,
   "metadata": {},
   "outputs": [
    {
     "data": {
      "text/plain": [
       "True"
      ]
     },
     "execution_count": 25,
     "metadata": {},
     "output_type": "execute_result"
    }
   ],
   "source": [
    "### You can check that an object is an instance of a particular type using the isinstance function\n",
    "a = 5\n",
    "isinstance(a, int)\n"
   ]
  },
  {
   "cell_type": "code",
   "execution_count": 30,
   "metadata": {},
   "outputs": [
    {
     "data": {
      "text/plain": [
       "<function str.split(sep=None, maxsplit=-1)>"
      ]
     },
     "execution_count": 30,
     "metadata": {},
     "output_type": "execute_result"
    }
   ],
   "source": [
    "# Attributes and methods can also be accessed by name via the getattr function\n",
    "a=\"abcdr\"\n",
    "getattr(a,'split')"
   ]
  },
  {
   "cell_type": "code",
   "execution_count": 33,
   "metadata": {},
   "outputs": [
    {
     "data": {
      "text/plain": [
       "'import some_module\\nresult = some_module.f(5)\\npi = some_module.PI'"
      ]
     },
     "execution_count": 33,
     "metadata": {},
     "output_type": "execute_result"
    }
   ],
   "source": [
    "# In Python a module is simply a file with the .py extension containing Python code.\n",
    "\"\"\"import some_module\n",
    "result = some_module.f(5)\n",
    "pi = some_module.PI\"\"\"\n"
   ]
  },
  {
   "cell_type": "markdown",
   "metadata": {},
   "source": [
    "### Most objects in Python, such as lists, dicts, NumPy arrays, and most user-defined types (classes), are mutable where as tuple and sets are immutable."
   ]
  },
  {
   "cell_type": "code",
   "execution_count": 34,
   "metadata": {},
   "outputs": [],
   "source": [
    "# The built-in Python datetime module provides datetime, date, and time types. \n",
    "from datetime import datetime, date, time\n",
    "dt = datetime(2011, 10, 29, 20, 30, 21)"
   ]
  },
  {
   "cell_type": "code",
   "execution_count": 35,
   "metadata": {},
   "outputs": [
    {
     "data": {
      "text/plain": [
       "29"
      ]
     },
     "execution_count": 35,
     "metadata": {},
     "output_type": "execute_result"
    }
   ],
   "source": [
    "dt.day"
   ]
  },
  {
   "cell_type": "code",
   "execution_count": 36,
   "metadata": {},
   "outputs": [
    {
     "data": {
      "text/plain": [
       "10"
      ]
     },
     "execution_count": 36,
     "metadata": {},
     "output_type": "execute_result"
    }
   ],
   "source": [
    "dt.month"
   ]
  },
  {
   "cell_type": "code",
   "execution_count": 38,
   "metadata": {},
   "outputs": [
    {
     "data": {
      "text/plain": [
       "'10/29/2011 20:30'"
      ]
     },
     "execution_count": 38,
     "metadata": {},
     "output_type": "execute_result"
    }
   ],
   "source": [
    "# Converting date to desired format\n",
    "dt.strftime('%m/%d/%Y %H:%M')\n"
   ]
  },
  {
   "cell_type": "markdown",
   "metadata": {},
   "source": [
    "%m Two-digit month [01, 12]\n",
    "\n",
    "%d Two-digit day [01, 31]\n",
    "\n",
    "%H Hour (24-hour clock) [00, 23]\n",
    "\n",
    "%I Hour (12-hour clock) [01, 12]\n",
    "\n",
    "%M Two-digit minute [00, 59]\n",
    "\n",
    "%S Second [00, 61] (seconds 60, 61 account for leap seconds)\n",
    "\n",
    "%w Weekday as integer [0 (Sunday), 6]\n",
    "\n",
    "%U Week number of the year [00, 53]; Sunday is considered the first day of the week, and days before the first Sunday of\n",
    "the year are “week 0”\n",
    "\n",
    "%W Week number of the year [00, 53]; Monday is considered the first day of the week, and days before the first Monday of\n",
    "the year are “week 0”\n",
    "\n",
    "%z UTC time zone offset as +HHMM or -HHMM; empty if time zone naive\n",
    "\n",
    "%F Shortcut for %Y-%m-%d (e.g., 2012-4-18)\n",
    "\n",
    "%D Shortcut for %m/%d/%y (e.g., 04/18/12)\n"
   ]
  },
  {
   "cell_type": "code",
   "execution_count": null,
   "metadata": {},
   "outputs": [],
   "source": []
  }
 ],
 "metadata": {
  "kernelspec": {
   "display_name": "Python 3",
   "language": "python",
   "name": "python3"
  },
  "language_info": {
   "codemirror_mode": {
    "name": "ipython",
    "version": 3
   },
   "file_extension": ".py",
   "mimetype": "text/x-python",
   "name": "python",
   "nbconvert_exporter": "python",
   "pygments_lexer": "ipython3",
   "version": "3.7.4"
  }
 },
 "nbformat": 4,
 "nbformat_minor": 2
}
