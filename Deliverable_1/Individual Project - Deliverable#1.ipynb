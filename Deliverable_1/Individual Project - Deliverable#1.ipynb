{
 "cells": [
  {
   "cell_type": "markdown",
   "metadata": {},
   "source": [
    "# Individual Project- Deliverable#1\n"
   ]
  },
  {
   "cell_type": "markdown",
   "metadata": {},
   "source": [
    "# Project Proposal in Markdown format"
   ]
  },
  {
   "cell_type": "markdown",
   "metadata": {},
   "source": [
    "## 1)What is your issue of interest?"
   ]
  },
  {
   "cell_type": "markdown",
   "metadata": {},
   "source": [
    "In this project, I have taken the data of a soil health data of 13 Districts in Andhra Pradesh state from India. From all the columns I am going to use pirticular columns and visualize the data and retreive some useful information from it."
   ]
  },
  {
   "cell_type": "markdown",
   "metadata": {},
   "source": [
    "## 2)Why is this issue important to you and/or to others?"
   ]
  },
  {
   "cell_type": "markdown",
   "metadata": {},
   "source": [
    "Agriculture is one of the most important components of our society. Soil is a critical part of successful agriculture and is the original source of the nutrients that we use to grow crops. Analysis the primary nutrients and Ph of a soil in particular region can help the government to educate farmers for increasing productivity, profitability and sustainability through science-led development and climate-smart agriculture."
   ]
  },
  {
   "cell_type": "markdown",
   "metadata": {},
   "source": [
    "## 3) What questions do you have in mind and would like to answer?"
   ]
  },
  {
   "cell_type": "markdown",
   "metadata": {},
   "source": [
    "As of now, I would like to answer which districts are lacking what sort of primary nutrients and Acidic or Basic natures of \n",
    "the soil. While doing my project if any new idea strikes me I will add that with prior information."
   ]
  },
  {
   "cell_type": "markdown",
   "metadata": {},
   "source": [
    "## 4) Where do you get the data to help answer your questions?\n"
   ]
  },
  {
   "cell_type": "markdown",
   "metadata": {},
   "source": [
    "Basically I am a bit intreasted in agriculture sector so, I thought of collecting some agriculture data and retrieve some \n",
    "useful information from that. Luckly while searching for that data I ended up in ICRISAT(International Crops Research \n",
    "Institute for the Semi-Arid Tropics) webtsite where I found an excel file about nutrients of my native state(ANDHRA PRADESH\n",
    "-(INDIA))."
   ]
  },
  {
   "cell_type": "markdown",
   "metadata": {},
   "source": [
    "## 5) What will be your unit of analysis (for example, patient, organization, or country)? Roughly how many units (observations) do you expect to analyze?\n"
   ]
  },
  {
   "cell_type": "markdown",
   "metadata": {},
   "source": [
    "I will be analysing soil health data of a state consisting of 13 districts covering an area of approximately 100,000 mi²"
   ]
  },
  {
   "cell_type": "markdown",
   "metadata": {},
   "source": [
    "## 6) What variables/measures do you plan to use in your analysis (variables should be tied to the questions in #3)?"
   ]
  },
  {
   "cell_type": "markdown",
   "metadata": {},
   "source": [
    "As of now , I am planning to use District Names, pH scale, 3 Primary nutrients(N,P,K) and EC values."
   ]
  },
  {
   "cell_type": "markdown",
   "metadata": {},
   "source": [
    "## 7) What kinds of techniques do you plan to use (for example, summary statistics, scatter plot, bar chart, chi-squared test)?"
   ]
  },
  {
   "cell_type": "markdown",
   "metadata": {},
   "source": [
    "I am planning to use bar graphs, scatter plots and correlation Plots along with some statistical analysis."
   ]
  }
 ],
 "metadata": {
  "kernelspec": {
   "display_name": "Python 3",
   "language": "python",
   "name": "python3"
  },
  "language_info": {
   "codemirror_mode": {
    "name": "ipython",
    "version": 3
   },
   "file_extension": ".py",
   "mimetype": "text/x-python",
   "name": "python",
   "nbconvert_exporter": "python",
   "pygments_lexer": "ipython3",
   "version": "3.7.4"
  }
 },
 "nbformat": 4,
 "nbformat_minor": 2
}
