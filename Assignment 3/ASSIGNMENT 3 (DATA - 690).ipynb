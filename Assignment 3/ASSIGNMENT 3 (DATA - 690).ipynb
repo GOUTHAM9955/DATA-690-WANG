{
 "cells": [
  {
   "cell_type": "markdown",
   "metadata": {},
   "source": [
    "## 1) Write a program that generates 100 random integers between 0 and 9?"
   ]
  },
  {
   "cell_type": "code",
   "execution_count": 12,
   "metadata": {},
   "outputs": [
    {
     "name": "stdout",
     "output_type": "stream",
     "text": [
      "1  5  2  3  4  2  8  3  3  0  \n",
      "\n",
      "4  2  6  6  4  5  3  4  4  6  \n",
      "\n",
      "8  1  3  0  6  7  4  6  4  1  \n",
      "\n",
      "4  6  5  2  4  0  6  5  9  4  \n",
      "\n",
      "1  9  2  2  1  5  3  2  0  6  \n",
      "\n",
      "2  2  8  5  9  8  1  3  7  5  \n",
      "\n",
      "0  0  0  2  9  4  1  1  1  5  \n",
      "\n",
      "6  0  9  0  2  3  2  4  0  2  \n",
      "\n",
      "2  8  4  9  3  8  3  8  2  9  \n",
      "\n",
      "7  1  0  0  8  5  5  8  2  3  \n",
      "\n"
     ]
    }
   ],
   "source": [
    "from numpy import random\n",
    "\n",
    "for i in range(10):\n",
    "    for j in range(10):\n",
    "        x=random.randint(10)\n",
    "        print(x,\" \", end='')\n",
    "    print(\"\\n\")"
   ]
  },
  {
   "cell_type": "markdown",
   "metadata": {},
   "source": [
    "## 2) If the random number is an odd number, print \"@\" instead. like the following:"
   ]
  },
  {
   "cell_type": "code",
   "execution_count": 15,
   "metadata": {},
   "outputs": [
    {
     "name": "stdout",
     "output_type": "stream",
     "text": [
      "2  6  @  2  @  0  0  2  @  4  \n",
      "\n",
      "@  @  @  0  2  @  4  2  4  @  \n",
      "\n",
      "0  @  4  @  @  8  @  @  @  @  \n",
      "\n",
      "6  @  @  @  8  6  6  4  @  @  \n",
      "\n",
      "@  @  0  6  @  2  8  @  @  0  \n",
      "\n",
      "2  @  0  @  4  @  8  4  6  4  \n",
      "\n",
      "6  @  2  @  @  8  @  @  @  @  \n",
      "\n",
      "@  @  @  @  @  @  @  @  4  @  \n",
      "\n",
      "4  @  @  @  @  4  @  @  6  4  \n",
      "\n",
      "@  @  @  @  @  @  0  0  0  @  \n",
      "\n"
     ]
    }
   ],
   "source": [
    "for i in range(10):\n",
    "    for j in range(10):\n",
    "        x=random.randint(10)\n",
    "        if x%2==0:\n",
    "            print(x,\" \",end='')\n",
    "        else:\n",
    "            print(\"@\",\" \",end=\"\")\n",
    "    print(\"\\n\")"
   ]
  },
  {
   "cell_type": "markdown",
   "metadata": {},
   "source": [
    "## 3) Calculate and Print the total of each row like the following (use \"*\" to separate the total from the numbers):"
   ]
  },
  {
   "cell_type": "code",
   "execution_count": 19,
   "metadata": {},
   "outputs": [
    {
     "name": "stdout",
     "output_type": "stream",
     "text": [
      "9  5  6  5  6  6  4  9  4  0  * 60 \n",
      "\n",
      "6  9  1  8  1  6  5  1  2  8  * 39 \n",
      "\n",
      "1  8  7  0  8  7  8  9  3  1  * 59 \n",
      "\n",
      "0  4  3  7  7  0  2  8  6  8  * 38 \n",
      "\n",
      "6  2  6  8  4  2  3  4  6  2  * 49 \n",
      "\n",
      "9  5  8  0  8  5  8  9  2  1  * 56 \n",
      "\n",
      "1  6  0  1  7  0  7  8  1  4  * 32 \n",
      "\n",
      "7  3  2  9  2  1  7  5  7  5  * 47 \n",
      "\n",
      "9  2  8  2  9  6  0  0  6  0  * 47 \n",
      "\n",
      "0  4  2  1  8  0  6  3  1  3  * 25 \n",
      "\n"
     ]
    }
   ],
   "source": [
    "for i in range(10):\n",
    "    sum1=0\n",
    "    for j in range(10):\n",
    "        sum1+=x\n",
    "        x=random.randint(10)\n",
    "        print(x,\" \", end='')\n",
    "    print(\"*\", sum1,\"\\n\")"
   ]
  },
  {
   "cell_type": "markdown",
   "metadata": {},
   "source": [
    "## 4) Optional: Surround the matrix with asterisks (*) like the following:"
   ]
  },
  {
   "cell_type": "code",
   "execution_count": 32,
   "metadata": {},
   "outputs": [
    {
     "name": "stdout",
     "output_type": "stream",
     "text": [
      "**********************************\n",
      "\n",
      "* 0  0  7  6  9  9  5  6  3  1   * \n",
      "\n",
      "\n",
      "\n",
      "* 5  5  5  0  7  2  6  5  8  1   * \n",
      "\n",
      "\n",
      "\n",
      "* 2  6  4  7  8  5  2  7  3  0   * \n",
      "\n",
      "\n",
      "\n",
      "* 9  4  6  6  5  1  9  1  8  7   * \n",
      "\n",
      "\n",
      "\n",
      "* 8  9  5  5  6  4  1  7  0  0   * \n",
      "\n",
      "\n",
      "\n",
      "* 6  9  2  9  8  8  8  3  1  3   * \n",
      "\n",
      "\n",
      "\n",
      "* 0  6  7  8  2  8  9  2  3  9   * \n",
      "\n",
      "\n",
      "\n",
      "* 7  0  1  8  4  8  5  8  3  8   * \n",
      "\n",
      "\n",
      "\n",
      "* 1  2  0  3  6  7  2  2  8  0   * \n",
      "\n",
      "\n",
      "\n",
      "* 9  0  0  0  1  7  4  7  0  5   * \n",
      "\n",
      "**********************************"
     ]
    }
   ],
   "source": [
    "for i in range(11):\n",
    "    if i==0:\n",
    "        for k in range(34):\n",
    "            print(\"*\",end='')\n",
    "    elif i==10:\n",
    "        for k in range(34):\n",
    "            print(\"*\",end='')\n",
    "        break;\n",
    "    print(\"\\n\")\n",
    "    print(\"* \",end='')\n",
    "    for j in range(10):\n",
    "        x=random.randint(10)\n",
    "        print(x,\" \", end='')\n",
    "    print(\" *\",\"\\n\")"
   ]
  },
  {
   "cell_type": "markdown",
   "metadata": {},
   "source": [
    "## 5) Optional (challenging): Calculate and Print the total of each row and column like the following:"
   ]
  },
  {
   "cell_type": "code",
   "execution_count": 49,
   "metadata": {},
   "outputs": [
    {
     "name": "stdout",
     "output_type": "stream",
     "text": [
      "4   1   2   3   4   9   2   0   1   3   * 33 \n",
      "\n",
      "4   7   5   1   6   2   5   6   8   9   * 47 \n",
      "\n",
      "9   1   5   1   5   6   8   5   6   1   * 55 \n",
      "\n",
      "0   0   9   9   0   5   0   3   3   0   * 30 \n",
      "\n",
      "0   1   7   8   4   0   4   1   3   9   * 28 \n",
      "\n",
      "2   1   6   3   8   4   3   6   9   2   * 51 \n",
      "\n",
      "8   4   9   8   5   4   1   0   5   0   * 46 \n",
      "\n",
      "5   0   2   4   9   8   0   4   8   1   * 40 \n",
      "\n",
      "2   7   4   7   4   0   9   8   7   6   * 49 \n",
      "\n",
      "1   9   6   2   6   9   6   2   2   3   * 49 \n",
      "\n",
      "*   *   *   *   *   *   *   *   *   *   \n",
      "\n",
      "35  31  55  46  51  47  38  35  52  34  "
     ]
    }
   ],
   "source": [
    "a=[0,0,0,0,0,0,0,0,0,0]\n",
    "for i in range(12):\n",
    "    if i==10:\n",
    "        for i in range(10):\n",
    "            print(\"*   \",end='')\n",
    "        print(\"\\n\")\n",
    "        for i in range(10):\n",
    "            print(a[i],\" \",end='')\n",
    "        break;\n",
    "    sum1=0\n",
    "    for j in range(10):\n",
    "        sum1+=x\n",
    "        x=random.randint(10)\n",
    "        a[j]=a[j]+x\n",
    "        print(x,\"  \", end='')\n",
    "    print(\"*\", sum1,\"\\n\")"
   ]
  },
  {
   "cell_type": "code",
   "execution_count": null,
   "metadata": {},
   "outputs": [],
   "source": []
  }
 ],
 "metadata": {
  "kernelspec": {
   "display_name": "Python 3",
   "language": "python",
   "name": "python3"
  },
  "language_info": {
   "codemirror_mode": {
    "name": "ipython",
    "version": 3
   },
   "file_extension": ".py",
   "mimetype": "text/x-python",
   "name": "python",
   "nbconvert_exporter": "python",
   "pygments_lexer": "ipython3",
   "version": "3.7.4"
  }
 },
 "nbformat": 4,
 "nbformat_minor": 2
}
