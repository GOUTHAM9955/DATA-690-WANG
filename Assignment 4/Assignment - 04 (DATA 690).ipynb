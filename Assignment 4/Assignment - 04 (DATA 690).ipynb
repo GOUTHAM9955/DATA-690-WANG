{
 "cells": [
  {
   "cell_type": "markdown",
   "metadata": {},
   "source": [
    "# Assignment - 04"
   ]
  },
  {
   "cell_type": "code",
   "execution_count": 24,
   "metadata": {},
   "outputs": [],
   "source": [
    "with open(\"census_cost.txt\") as f:\n",
    "    line_list = f.readlines()"
   ]
  },
  {
   "cell_type": "code",
   "execution_count": 27,
   "metadata": {},
   "outputs": [],
   "source": [
    "top2_list=[]\n",
    "for i in range(2):\n",
    "    top2_list.append(line_list[i])"
   ]
  },
  {
   "cell_type": "code",
   "execution_count": 28,
   "metadata": {},
   "outputs": [
    {
     "data": {
      "text/plain": [
       "['Source: https://www.genealogybranches.com/censuscosts.html\\n',\n",
       " 'Census Year\\tTotal Population\\tCensus Cost\\tAverage Cost Per Person\\n']"
      ]
     },
     "execution_count": 28,
     "metadata": {},
     "output_type": "execute_result"
    }
   ],
   "source": [
    "top2_list"
   ]
  },
  {
   "cell_type": "code",
   "execution_count": 26,
   "metadata": {},
   "outputs": [],
   "source": [
    "data_list=[]\n",
    "for i in range(2,len(line_list)):\n",
    "    data_list.append(line_list[i])"
   ]
  },
  {
   "cell_type": "code",
   "execution_count": 29,
   "metadata": {},
   "outputs": [
    {
     "data": {
      "text/plain": [
       "['1790\\t3,929,214\\t$44,377\\t1.13 cents\\n',\n",
       " '1800\\t5,308,483\\t$66,109\\t1.24 cents\\n',\n",
       " '1810\\t7,239,881\\t$178,445\\t2.46 cents\\n',\n",
       " '1820\\t9,633,822\\t$208,526\\t2.16 cents\\n',\n",
       " '1830\\t12,866,020\\t$378,545\\t2.94 cents\\n',\n",
       " '1840\\t17,069,458\\t$833,371\\t4.88 cents\\n',\n",
       " '1850\\t23,191,876\\t$1,423,351\\t6.14 cents\\n',\n",
       " '1860\\t31,443,321\\t$1,969,377\\t6.26 cents\\n',\n",
       " '1870\\t38,558,371\\t$3,421,198\\t8.87 cents\\n',\n",
       " '1880\\t50,155,783\\t$5,790,678\\t11.54 cents\\n',\n",
       " '1890\\t62,979,766\\t$11,547,127\\t18.33 cents\\n',\n",
       " '1900\\t76,303,387\\t$11,854,000\\t15.54 cents\\n',\n",
       " '1910\\t91,972,266\\t$15,968,000\\t17.07 cents\\n',\n",
       " '1920\\t105,710,620\\t$25,117,000\\t23.76 cents\\n',\n",
       " '1930\\t122,775,046\\t$40,156,000\\t32.71 cents\\n',\n",
       " '1940\\t131,669,275\\t$67,527,000\\t51.29 cents\\n',\n",
       " '1950\\t151,325,798\\t$91,462,000\\t60.44 cents\\n',\n",
       " '1960\\t179,323,175\\t$127,934,000\\t71.34 cents\\n',\n",
       " '1970\\t203,302,031\\t$247,653,000\\t$1.22\\n',\n",
       " '1980\\t226,542,199\\t$1,078,488,000\\t$4.76\\n',\n",
       " '1990\\t248,718,301\\t$2,492,830,000\\t$10.02\\n',\n",
       " '2000\\t281,421,906\\t$4.5 Billion\\t$15.99\\n',\n",
       " '2010*\\t308,745,538\\t$13 Billion\\t$42.11']"
      ]
     },
     "execution_count": 29,
     "metadata": {},
     "output_type": "execute_result"
    }
   ],
   "source": [
    "data_list"
   ]
  },
  {
   "cell_type": "code",
   "execution_count": 33,
   "metadata": {},
   "outputs": [
    {
     "data": {
      "text/plain": [
       "'1790\\t3,929,214\\t$44,377\\t1.13 cents\\n'"
      ]
     },
     "execution_count": 33,
     "metadata": {},
     "output_type": "execute_result"
    }
   ],
   "source": [
    "data_list[0]"
   ]
  },
  {
   "cell_type": "code",
   "execution_count": 39,
   "metadata": {},
   "outputs": [],
   "source": [
    "year_list = []\n",
    "for i in range(len(data_list)-1):\n",
    "    s=\"\"\n",
    "    for j in range(4):\n",
    "        s = s+data_list[i][j]\n",
    "    year_list.append(s)\n",
    "    "
   ]
  },
  {
   "cell_type": "code",
   "execution_count": 40,
   "metadata": {},
   "outputs": [
    {
     "data": {
      "text/plain": [
       "['1790',\n",
       " '1800',\n",
       " '1810',\n",
       " '1820',\n",
       " '1830',\n",
       " '1840',\n",
       " '1850',\n",
       " '1860',\n",
       " '1870',\n",
       " '1880',\n",
       " '1890',\n",
       " '1900',\n",
       " '1910',\n",
       " '1920',\n",
       " '1930',\n",
       " '1940',\n",
       " '1950',\n",
       " '1960',\n",
       " '1970',\n",
       " '1980',\n",
       " '1990',\n",
       " '2000']"
      ]
     },
     "execution_count": 40,
     "metadata": {},
     "output_type": "execute_result"
    }
   ],
   "source": [
    "year_list"
   ]
  },
  {
   "cell_type": "code",
   "execution_count": 84,
   "metadata": {},
   "outputs": [],
   "source": [
    "pop_list = []\n",
    "for i in range(len(data_list)-1):\n",
    "    s=\"\"\n",
    "    for j in range(20):\n",
    "        s1 = data_list[i][j+5]\n",
    "        if s1 == \"\\t\":\n",
    "            break;        \n",
    "        else:\n",
    "            if s1 != \",\":\n",
    "                s +=s1\n",
    "\n",
    "        \n",
    "    pop_list.append(s)"
   ]
  },
  {
   "cell_type": "code",
   "execution_count": 85,
   "metadata": {},
   "outputs": [
    {
     "data": {
      "text/plain": [
       "['3929214',\n",
       " '5308483',\n",
       " '7239881',\n",
       " '9633822',\n",
       " '12866020',\n",
       " '17069458',\n",
       " '23191876',\n",
       " '31443321',\n",
       " '38558371',\n",
       " '50155783',\n",
       " '62979766',\n",
       " '76303387',\n",
       " '91972266',\n",
       " '105710620',\n",
       " '122775046',\n",
       " '131669275',\n",
       " '151325798',\n",
       " '179323175',\n",
       " '203302031',\n",
       " '226542199',\n",
       " '248718301',\n",
       " '281421906']"
      ]
     },
     "execution_count": 85,
     "metadata": {},
     "output_type": "execute_result"
    }
   ],
   "source": [
    "pop_list"
   ]
  },
  {
   "cell_type": "code",
   "execution_count": 281,
   "metadata": {},
   "outputs": [],
   "source": [
    "cost_list1 = []\n",
    "cost_list2 = []\n",
    "for i in range(len(data_list)-1):\n",
    "    s = \"\"\n",
    "    s2=\"\"\n",
    "    a = 0\n",
    "    list_1= [\"1\",\"2\",\"3\",\"4\",\"5\",\"6\",\"7\",\"8\",\"9\",\"0\",\".\"]\n",
    "    list_2=[\"B\",\"i\",\"l\",\"l\",\"o\",\"n\"]\n",
    "    for j in range(len(data_list[i])):\n",
    "        s1 = data_list[i][j]\n",
    "        if s1 == \"\\t\":\n",
    "            a +=1\n",
    "\n",
    "        else:\n",
    "            if a ==2: \n",
    "                if s1 in list_1 or s1 in list_2:\n",
    "                    s = s+s1\n",
    "            elif a==3:\n",
    "                if s1 in list_1:\n",
    "                    s2= s2+s1\n",
    "                \n",
    "                    \n",
    "    cost_list1.append(s)\n",
    "    cost_list2.append(s2)\n",
    "    for i in range(len(cost_list1)):\n",
    "        if \"Billion\" in cost_list1[i]:\n",
    "            \n",
    "            cost_list1[i]=cost_list1[i].replace(\"Billion\",\"0000000\")\n",
    "            cost_list1[i]=cost_list1[i].replace(\".\",\"\")\n",
    "                    \n",
    "            "
   ]
  },
  {
   "cell_type": "code",
   "execution_count": 282,
   "metadata": {},
   "outputs": [
    {
     "data": {
      "text/plain": [
       "['44377',\n",
       " '66109',\n",
       " '178445',\n",
       " '208526',\n",
       " '378545',\n",
       " '833371',\n",
       " '1423351',\n",
       " '1969377',\n",
       " '3421198',\n",
       " '5790678',\n",
       " '11547127',\n",
       " '11854000',\n",
       " '15968000',\n",
       " '25117000',\n",
       " '40156000',\n",
       " '67527000',\n",
       " '91462000',\n",
       " '127934000',\n",
       " '247653000',\n",
       " '1078488000',\n",
       " '2492830000',\n",
       " '450000000']"
      ]
     },
     "execution_count": 282,
     "metadata": {},
     "output_type": "execute_result"
    }
   ],
   "source": [
    "cost_list1"
   ]
  },
  {
   "cell_type": "code",
   "execution_count": 283,
   "metadata": {},
   "outputs": [
    {
     "data": {
      "text/plain": [
       "['1.13',\n",
       " '1.24',\n",
       " '2.46',\n",
       " '2.16',\n",
       " '2.94',\n",
       " '4.88',\n",
       " '6.14',\n",
       " '6.26',\n",
       " '8.87',\n",
       " '11.54',\n",
       " '18.33',\n",
       " '15.54',\n",
       " '17.07',\n",
       " '23.76',\n",
       " '32.71',\n",
       " '51.29',\n",
       " '60.44',\n",
       " '71.34',\n",
       " '1.22',\n",
       " '4.76',\n",
       " '10.02',\n",
       " '15.99']"
      ]
     },
     "execution_count": 283,
     "metadata": {},
     "output_type": "execute_result"
    }
   ],
   "source": [
    "cost_list2"
   ]
  },
  {
   "cell_type": "code",
   "execution_count": 289,
   "metadata": {},
   "outputs": [],
   "source": [
    "for i in range(len(cost_list1)):\n",
    "    cost_list1[i] = float(cost_list1[i])"
   ]
  },
  {
   "cell_type": "code",
   "execution_count": 293,
   "metadata": {},
   "outputs": [],
   "source": [
    "for i in range(len(cost_list2)):\n",
    "    cost_list2[i] = float(cost_list2[i])/100"
   ]
  },
  {
   "cell_type": "code",
   "execution_count": 304,
   "metadata": {},
   "outputs": [],
   "source": [
    "for i in range(len(pop_list)):\n",
    "    pop_list [i] = float(pop_list[i])/100"
   ]
  },
  {
   "cell_type": "code",
   "execution_count": 305,
   "metadata": {},
   "outputs": [],
   "source": [
    "cost_list = []\n",
    "for i in range(len(cost_list1)):\n",
    "    cost_list.append(cost_list1[i]+cost_list2[i])\n",
    "    "
   ]
  },
  {
   "cell_type": "code",
   "execution_count": 306,
   "metadata": {},
   "outputs": [
    {
     "name": "stdout",
     "output_type": "stream",
     "text": [
      "[44377.0113, 66109.0124, 178445.0246, 208526.0216, 378545.0294, 833371.0488, 1423351.0614, 1969377.0626, 3421198.0887, 5790678.1154, 11547127.1833, 11854000.1554, 15968000.1707, 25117000.2376, 40156000.3271, 67527000.5129, 91462000.6044, 127934000.7134, 247653000.0122, 1078488000.0476, 2492830000.1002, 450000000.1599]\n"
     ]
    }
   ],
   "source": [
    "print(cost_list)"
   ]
  },
  {
   "cell_type": "code",
   "execution_count": 307,
   "metadata": {},
   "outputs": [],
   "source": [
    "avg_list = []\n",
    "for i in range(len(cost_list1)):\n",
    "    avg_list.append(cost_list[i]/pop_list[i])"
   ]
  },
  {
   "cell_type": "code",
   "execution_count": 309,
   "metadata": {},
   "outputs": [
    {
     "name": "stdout",
     "output_type": "stream",
     "text": [
      "[1.1294119205520494, 1.2453465971351891, 2.4647507963183375, 2.164520183163027, 2.9422076866039384, 4.882234976646593, 6.137282992544458, 6.26326036807626, 8.872776520304761, 11.545384737389105, 18.33466193459658, 15.535352520327834, 17.361755739170327, 23.76014844828268, 32.70697233304234, 51.28531353491541, 60.44045484194307, 71.34270331394701, 121.81531035083461, 476.06494719670303, 1002.2704361028103, 159.90226438161497]\n"
     ]
    }
   ],
   "source": [
    "print(avg_list)"
   ]
  },
  {
   "cell_type": "code",
   "execution_count": 311,
   "metadata": {},
   "outputs": [],
   "source": [
    "with open('census_cost.csv', 'w') as f:\n",
    "    writer = csv.writer(f)\n",
    "    wrt=top2_list[1].split(\"\\t\")\n",
    "    writer.writerow(wrt)\n",
    "    for i in range(len(year_list)):\n",
    "        writer.writerow([year_list[i],pop_list[i],cost_list[i],avg_list[i]])"
   ]
  }
 ],
 "metadata": {
  "kernelspec": {
   "display_name": "Python 3",
   "language": "python",
   "name": "python3"
  },
  "language_info": {
   "codemirror_mode": {
    "name": "ipython",
    "version": 3
   },
   "file_extension": ".py",
   "mimetype": "text/x-python",
   "name": "python",
   "nbconvert_exporter": "python",
   "pygments_lexer": "ipython3",
   "version": "3.7.4"
  }
 },
 "nbformat": 4,
 "nbformat_minor": 2
}
